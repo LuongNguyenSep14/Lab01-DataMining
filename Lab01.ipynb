{
 "cells": [
  {
   "cell_type": "code",
   "execution_count": 1,
   "id": "0e060e42",
   "metadata": {},
   "outputs": [],
   "source": [
    "import pandas as pd\n",
    "import re"
   ]
  },
  {
   "cell_type": "code",
   "execution_count": 2,
   "id": "02d0212f",
   "metadata": {},
   "outputs": [],
   "source": [
    "l1 = [1, 2, 3]\n",
    "l2 = ['+', '-']"
   ]
  },
  {
   "cell_type": "code",
   "execution_count": 3,
   "id": "51b05e42",
   "metadata": {},
   "outputs": [],
   "source": [
    "r = l1[0]\n",
    "for i, o in enumerate(l1[1:]):\n",
    "    if l2[i] == '+':\n",
    "        r = r + l1[i]\n",
    "    elif l2[i] == '-':\n",
    "        r = r - l1[i]\n",
    "    elif l2[i] == '/':\n",
    "        r = r / l1[i]\n",
    "    elif l2[i] == '*':\n",
    "        r = r * l1[i]"
   ]
  },
  {
   "cell_type": "code",
   "execution_count": 4,
   "id": "96a2c4cb",
   "metadata": {},
   "outputs": [
    {
     "data": {
      "text/plain": [
       "0"
      ]
     },
     "execution_count": 4,
     "metadata": {},
     "output_type": "execute_result"
    }
   ],
   "source": [
    "r"
   ]
  },
  {
   "cell_type": "code",
   "execution_count": null,
   "id": "284503b5",
   "metadata": {},
   "outputs": [],
   "source": []
  }
 ],
 "metadata": {
  "kernelspec": {
   "display_name": "Python 3 (ipykernel)",
   "language": "python",
   "name": "python3"
  },
  "language_info": {
   "codemirror_mode": {
    "name": "ipython",
    "version": 3
   },
   "file_extension": ".py",
   "mimetype": "text/x-python",
   "name": "python",
   "nbconvert_exporter": "python",
   "pygments_lexer": "ipython3",
   "version": "3.8.8"
  }
 },
 "nbformat": 4,
 "nbformat_minor": 5
}
