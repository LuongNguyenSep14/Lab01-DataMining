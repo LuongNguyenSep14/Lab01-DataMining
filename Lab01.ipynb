{
 "cells": [
  {
   "cell_type": "code",
   "execution_count": 22,
   "id": "0e060e42",
   "metadata": {},
   "outputs": [],
   "source": [
    "import pandas as pd\n",
    "import re"
   ]
  },
  {
   "cell_type": "code",
   "execution_count": 23,
   "id": "df5f196f",
   "metadata": {},
   "outputs": [],
   "source": [
    "df1 = pd.read_csv('result.csv')\n",
    "df2 = pd.read_csv('house-prices.csv')"
   ]
  },
  {
   "cell_type": "code",
   "execution_count": 24,
   "id": "c2f8d4fe",
   "metadata": {},
   "outputs": [
    {
     "data": {
      "text/plain": [
       "81"
      ]
     },
     "execution_count": 24,
     "metadata": {},
     "output_type": "execute_result"
    }
   ],
   "source": [
    "len(df2.columns)"
   ]
  },
  {
   "cell_type": "code",
   "execution_count": 25,
   "id": "c1b52389",
   "metadata": {},
   "outputs": [
    {
     "data": {
      "text/plain": [
       "69"
      ]
     },
     "execution_count": 25,
     "metadata": {},
     "output_type": "execute_result"
    }
   ],
   "source": [
    "len(df1.columns)"
   ]
  },
  {
   "cell_type": "code",
   "execution_count": 26,
   "id": "01439429",
   "metadata": {},
   "outputs": [],
   "source": [
    "s = \"hello .... .. . .? my /& is Luong\""
   ]
  },
  {
   "cell_type": "code",
   "execution_count": 33,
   "id": "39652d2f",
   "metadata": {},
   "outputs": [
    {
     "data": {
      "text/plain": [
       "'hello my is Luong'"
      ]
     },
     "execution_count": 33,
     "metadata": {},
     "output_type": "execute_result"
    }
   ],
   "source": [
    "' '.join(w for w in re.split(r\"\\W\", s) if w)"
   ]
  },
  {
   "cell_type": "code",
   "execution_count": 35,
   "id": "648ff223",
   "metadata": {},
   "outputs": [
    {
     "data": {
      "text/plain": [
       "'hello .... .. . .? my /& is luong'"
      ]
     },
     "execution_count": 35,
     "metadata": {},
     "output_type": "execute_result"
    }
   ],
   "source": [
    "s.lower()"
   ]
  },
  {
   "cell_type": "code",
   "execution_count": 36,
   "id": "fa9850cc",
   "metadata": {},
   "outputs": [
    {
     "data": {
      "text/plain": [
       "'hello .... .. . .? my /& is Luong'"
      ]
     },
     "execution_count": 36,
     "metadata": {},
     "output_type": "execute_result"
    }
   ],
   "source": [
    "s"
   ]
  },
  {
   "cell_type": "code",
   "execution_count": 13,
   "id": "02d0212f",
   "metadata": {},
   "outputs": [
    {
     "data": {
      "text/plain": [
       "'Id'"
      ]
     },
     "execution_count": 13,
     "metadata": {},
     "output_type": "execute_result"
    }
   ],
   "source": []
  },
  {
   "cell_type": "code",
   "execution_count": null,
   "id": "51b05e42",
   "metadata": {},
   "outputs": [],
   "source": []
  }
 ],
 "metadata": {
  "kernelspec": {
   "display_name": "Python 3 (ipykernel)",
   "language": "python",
   "name": "python3"
  },
  "language_info": {
   "codemirror_mode": {
    "name": "ipython",
    "version": 3
   },
   "file_extension": ".py",
   "mimetype": "text/x-python",
   "name": "python",
   "nbconvert_exporter": "python",
   "pygments_lexer": "ipython3",
   "version": "3.8.8"
  }
 },
 "nbformat": 4,
 "nbformat_minor": 5
}
